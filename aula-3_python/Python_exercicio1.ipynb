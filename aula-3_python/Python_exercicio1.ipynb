{
 "cells": [
  {
   "cell_type": "markdown",
   "id": "81914c3f-8b82-4a84-8db4-338c4f70fd4f",
   "metadata": {},
   "source": [
    "**_(IPython Session)_** Calcule a soma de `10`, `0.25` e `9.75`, armazene na variavel `total`, então mostre o valor de `total`. \n",
    "\n",
    "**Resposta:** "
   ]
  },
  {
   "cell_type": "code",
   "execution_count": 5,
   "id": "1e0b8b7a-8d34-49a7-aed6-48556de6ad0d",
   "metadata": {},
   "outputs": [],
   "source": [
    "total = 10 + 0.25 + 9.75"
   ]
  },
  {
   "cell_type": "code",
   "execution_count": 6,
   "id": "ca40eb4d-2eb8-4cc3-8c99-8defcf1a1bae",
   "metadata": {},
   "outputs": [
    {
     "data": {
      "text/plain": [
       "20.0"
      ]
     },
     "execution_count": 6,
     "metadata": {},
     "output_type": "execute_result"
    }
   ],
   "source": [
    "total"
   ]
  },
  {
   "cell_type": "code",
   "execution_count": 7,
   "id": "17fc73c5-0d61-49dc-a6bf-227b9c9806e7",
   "metadata": {},
   "outputs": [
    {
     "name": "stdout",
     "output_type": "stream",
     "text": [
      "20.0\n"
     ]
    }
   ],
   "source": [
    "print(total)"
   ]
  }
 ],
 "metadata": {
  "kernelspec": {
   "display_name": "Python 3 (ipykernel)",
   "language": "python",
   "name": "python3"
  },
  "language_info": {
   "codemirror_mode": {
    "name": "ipython",
    "version": 3
   },
   "file_extension": ".py",
   "mimetype": "text/x-python",
   "name": "python",
   "nbconvert_exporter": "python",
   "pygments_lexer": "ipython3",
   "version": "3.12.8"
  }
 },
 "nbformat": 4,
 "nbformat_minor": 5
}
